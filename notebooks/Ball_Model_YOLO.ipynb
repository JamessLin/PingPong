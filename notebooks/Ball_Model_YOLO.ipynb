{
  "cells": [
    {
      "cell_type": "code",
      "execution_count": null,
      "metadata": {
        "id": "aBJB1pTDluKE"
      },
      "outputs": [],
      "source": [
        "!pip install ultralytics\n",
        "!pip install roboflow"
      ]
    },
    {
      "cell_type": "code",
      "execution_count": null,
      "metadata": {
        "id": "QxXxMTLp-9iA"
      },
      "outputs": [],
      "source": [
        "#Libaries\n",
        "from ultralytics import YOLO\n",
        "import os\n",
        "from roboflow import Roboflow\n",
        "\n",
        "#API KEY in Collab\n",
        "\n",
        "from google.colab import userdata\n",
        "ROBOFLOW_API_KEY = userdata.get('ROBOFLOW_API_KEY')"
      ]
    },
    {
      "cell_type": "code",
      "execution_count": null,
      "metadata": {
        "id": "BMq5pVyOFaBv"
      },
      "outputs": [],
      "source": [
        "#Roboflow Dataset Download\n",
        "rf = Roboflow(api_key=ROBOFLOW_API_KEY)\n",
        "project = rf.workspace(\"pong-w2dnl\").project(\"pong-uovsc\")\n",
        "version = project.version(6)\n",
        "dataset = version.download(\"yolov8\")\n",
        "print(f\"dataset downloaded to {dataset.location}\")"
      ]
    },
    {
      "cell_type": "code",
      "execution_count": null,
      "metadata": {
        "id": "Escyo8_MGSoa"
      },
      "outputs": [],
      "source": [
        "#Training\n",
        "\n",
        "data_yaml_path = os.path.join(dataset.location, \"data.yaml\")\n",
        "model = YOLO('yolov8n.pt')\n",
        "\n",
        "\n",
        "\n",
        "res = model.train(data=data_yaml_path, epochs=15, imgsz=640, project=\"YOLOv8_train\", name = \"colab_training_run\")"
      ]
    },
    {
      "cell_type": "code",
      "execution_count": null,
      "metadata": {
        "id": "HCHUyK-vG3C8"
      },
      "outputs": [],
      "source": [
        "from google.colab import drive\n",
        "drive.mount('/content/drive')\n",
        "\n",
        "model_path = '/content/YOLOv8_train/colab_training_run/weights/best.pt'\n",
        "\n",
        "destination_folder=  \"/content/drive/MyDrive/Summer_Research/Models\"\n",
        "destination_model_path = os.path.join(destination_folder, 'ball_model_v1.pt')\n",
        "try:\n",
        "\n",
        "    !cp \"{model_path}\" \"{destination_model_path}\"\n",
        "    print(f\" Model successfully saved to your Google Drive at:\")\n",
        "    print(destination_model_path)\n",
        "except Exception as e:\n",
        "    print(f\" Error copying file: {e}\")\n"
      ]
    },
    {
      "cell_type": "code",
      "execution_count": null,
      "metadata": {
        "id": "f7PMN9EPheId"
      },
      "outputs": [],
      "source": [
        "!ls \"/content/drive/MyDrive/\""
      ]
    }
  ],
  "metadata": {
    "accelerator": "GPU",
    "colab": {
      "authorship_tag": "ABX9TyMFuDlaEFSyDbkfezReaAzd",
      "cell_execution_strategy": "setup",
      "gpuType": "T4",
      "provenance": []
    },
    "kernelspec": {
      "display_name": "Python 3",
      "name": "python3"
    },
    "language_info": {
      "name": "python"
    }
  },
  "nbformat": 4,
  "nbformat_minor": 0
}
